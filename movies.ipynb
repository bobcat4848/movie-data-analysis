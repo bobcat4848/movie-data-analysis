{
 "cells": [
  {
   "cell_type": "markdown",
   "metadata": {},
   "source": [
    "# Do Users from Certain Occupations Rate Genres Differently?\n",
    "## Jacob Cuomo"
   ]
  },
  {
   "cell_type": "markdown",
   "metadata": {},
   "source": [
    "### Data import, Merge, and Cleanse"
   ]
  },
  {
   "cell_type": "code",
   "execution_count": 2,
   "metadata": {},
   "outputs": [],
   "source": [
    "# Import appropriate libraries\n",
    "import pandas as pd # loading in data\n",
    "import numpy as np\n",
    "import matplotlib.pyplot as plt # creating visualizations\n",
    "import seaborn as sns # also for creating visualizations\n",
    "\n",
    "# for multiple regression model\n",
    "import statsmodels\n",
    "import statsmodels.api as sm\n",
    "from statsmodels.stats.outliers_influence import variance_inflation_factor\n",
    "\n",
    "from sklearn.feature_selection import RFECV\n",
    "from sklearn.model_selection import KFold\n",
    "from sklearn.linear_model import LinearRegression\n",
    "from sklearn.preprocessing import StandardScaler"
   ]
  },
  {
   "cell_type": "code",
   "execution_count": 3,
   "metadata": {},
   "outputs": [],
   "source": [
    "# Import each individual dataset\n",
    "users = pd.read_csv('users.dat', sep='::', names=[\"user_id\",\"gender\",\"age\",\"occupation\",\"zip_code\"], engine='python')\n",
    "\n",
    "ratings = pd.read_csv('ratings.dat', sep='::', names=['user_id', 'movie_id', 'rating', 'rating_timestamp'], engine='python')\n",
    "ratings[\"rating_timestamp\"] = pd.to_datetime(ratings[\"rating_timestamp\"], unit='s') # Convert time stamp to datetime\n",
    "\n",
    "movies = pd.read_csv('movies.dat', sep='::', header=None, names=['movie_id', 'movie_title', 'genres'], engine='python')\n",
    "\n",
    "### CITATION: https://pandas.pydata.org/docs/reference/api/pandas.to_datetime.html"
   ]
  },
  {
   "cell_type": "code",
   "execution_count": 4,
   "metadata": {},
   "outputs": [
    {
     "name": "stdout",
     "output_type": "stream",
     "text": [
      "<class 'pandas.core.frame.DataFrame'>\n",
      "RangeIndex: 6040 entries, 0 to 6039\n",
      "Data columns (total 5 columns):\n",
      " #   Column      Non-Null Count  Dtype \n",
      "---  ------      --------------  ----- \n",
      " 0   user_id     6040 non-null   int64 \n",
      " 1   gender      6040 non-null   object\n",
      " 2   age         6040 non-null   int64 \n",
      " 3   occupation  6040 non-null   int64 \n",
      " 4   zip_code    6040 non-null   object\n",
      "dtypes: int64(3), object(2)\n",
      "memory usage: 236.1+ KB\n"
     ]
    }
   ],
   "source": [
    "# Quickly look over variables in the user file\n",
    "users.info()"
   ]
  },
  {
   "cell_type": "code",
   "execution_count": 5,
   "metadata": {
    "scrolled": true
   },
   "outputs": [
    {
     "name": "stdout",
     "output_type": "stream",
     "text": [
      "<class 'pandas.core.frame.DataFrame'>\n",
      "RangeIndex: 1000209 entries, 0 to 1000208\n",
      "Data columns (total 4 columns):\n",
      " #   Column            Non-Null Count    Dtype         \n",
      "---  ------            --------------    -----         \n",
      " 0   user_id           1000209 non-null  int64         \n",
      " 1   movie_id          1000209 non-null  int64         \n",
      " 2   rating            1000209 non-null  int64         \n",
      " 3   rating_timestamp  1000209 non-null  datetime64[ns]\n",
      "dtypes: datetime64[ns](1), int64(3)\n",
      "memory usage: 30.5 MB\n"
     ]
    }
   ],
   "source": [
    "# Quickly look over variables in the ratings file\n",
    "ratings.info()"
   ]
  },
  {
   "cell_type": "code",
   "execution_count": 6,
   "metadata": {},
   "outputs": [
    {
     "name": "stdout",
     "output_type": "stream",
     "text": [
      "<class 'pandas.core.frame.DataFrame'>\n",
      "RangeIndex: 3883 entries, 0 to 3882\n",
      "Data columns (total 3 columns):\n",
      " #   Column       Non-Null Count  Dtype \n",
      "---  ------       --------------  ----- \n",
      " 0   movie_id     3883 non-null   int64 \n",
      " 1   movie_title  3883 non-null   object\n",
      " 2   genres       3883 non-null   object\n",
      "dtypes: int64(1), object(2)\n",
      "memory usage: 91.1+ KB\n"
     ]
    }
   ],
   "source": [
    "# Quickly look over variables in the movie file\n",
    "movies.info()"
   ]
  },
  {
   "cell_type": "code",
   "execution_count": 7,
   "metadata": {},
   "outputs": [],
   "source": [
    "# Merge the three datasets together\n",
    "movieData = pd.merge(left=ratings, right=users, how='left', left_on='user_id', right_on='user_id')\n",
    "\n",
    "### CITATION: https://pandas.pydata.org/docs/reference/api/pandas.DataFrame.merge.html"
   ]
  },
  {
   "cell_type": "code",
   "execution_count": 8,
   "metadata": {},
   "outputs": [
    {
     "name": "stdout",
     "output_type": "stream",
     "text": [
      "<class 'pandas.core.frame.DataFrame'>\n",
      "Int64Index: 1000209 entries, 0 to 1000208\n",
      "Data columns (total 8 columns):\n",
      " #   Column            Non-Null Count    Dtype         \n",
      "---  ------            --------------    -----         \n",
      " 0   user_id           1000209 non-null  int64         \n",
      " 1   movie_id          1000209 non-null  int64         \n",
      " 2   rating            1000209 non-null  int64         \n",
      " 3   rating_timestamp  1000209 non-null  datetime64[ns]\n",
      " 4   gender            1000209 non-null  object        \n",
      " 5   age               1000209 non-null  int64         \n",
      " 6   occupation        1000209 non-null  int64         \n",
      " 7   zip_code          1000209 non-null  object        \n",
      "dtypes: datetime64[ns](1), int64(5), object(2)\n",
      "memory usage: 68.7+ MB\n"
     ]
    }
   ],
   "source": [
    "# Ensure the initial merge has added variables to the dataset\n",
    "movieData.info()"
   ]
  },
  {
   "cell_type": "code",
   "execution_count": 9,
   "metadata": {},
   "outputs": [],
   "source": [
    "# Merge the three datasets together\n",
    "movieData = pd.merge(left=movieData, right=movies, how='left', left_on='movie_id', right_on='movie_id')\n",
    "\n",
    "### CITATION: https://pandas.pydata.org/docs/reference/api/pandas.DataFrame.merge.html"
   ]
  },
  {
   "cell_type": "code",
   "execution_count": 10,
   "metadata": {},
   "outputs": [
    {
     "data": {
      "text/html": [
       "<div>\n",
       "<style scoped>\n",
       "    .dataframe tbody tr th:only-of-type {\n",
       "        vertical-align: middle;\n",
       "    }\n",
       "\n",
       "    .dataframe tbody tr th {\n",
       "        vertical-align: top;\n",
       "    }\n",
       "\n",
       "    .dataframe thead th {\n",
       "        text-align: right;\n",
       "    }\n",
       "</style>\n",
       "<table border=\"1\" class=\"dataframe\">\n",
       "  <thead>\n",
       "    <tr style=\"text-align: right;\">\n",
       "      <th></th>\n",
       "      <th>user_id</th>\n",
       "      <th>movie_id</th>\n",
       "      <th>rating</th>\n",
       "      <th>rating_timestamp</th>\n",
       "      <th>gender</th>\n",
       "      <th>age</th>\n",
       "      <th>occupation</th>\n",
       "      <th>zip_code</th>\n",
       "      <th>movie_title</th>\n",
       "      <th>genres</th>\n",
       "    </tr>\n",
       "  </thead>\n",
       "  <tbody>\n",
       "    <tr>\n",
       "      <th>0</th>\n",
       "      <td>1</td>\n",
       "      <td>1193</td>\n",
       "      <td>5</td>\n",
       "      <td>2000-12-31 22:12:40</td>\n",
       "      <td>F</td>\n",
       "      <td>1</td>\n",
       "      <td>10</td>\n",
       "      <td>48067</td>\n",
       "      <td>One Flew Over the Cuckoo's Nest (1975)</td>\n",
       "      <td>Drama</td>\n",
       "    </tr>\n",
       "    <tr>\n",
       "      <th>1</th>\n",
       "      <td>1</td>\n",
       "      <td>661</td>\n",
       "      <td>3</td>\n",
       "      <td>2000-12-31 22:35:09</td>\n",
       "      <td>F</td>\n",
       "      <td>1</td>\n",
       "      <td>10</td>\n",
       "      <td>48067</td>\n",
       "      <td>James and the Giant Peach (1996)</td>\n",
       "      <td>Animation|Children's|Musical</td>\n",
       "    </tr>\n",
       "    <tr>\n",
       "      <th>2</th>\n",
       "      <td>1</td>\n",
       "      <td>914</td>\n",
       "      <td>3</td>\n",
       "      <td>2000-12-31 22:32:48</td>\n",
       "      <td>F</td>\n",
       "      <td>1</td>\n",
       "      <td>10</td>\n",
       "      <td>48067</td>\n",
       "      <td>My Fair Lady (1964)</td>\n",
       "      <td>Musical|Romance</td>\n",
       "    </tr>\n",
       "    <tr>\n",
       "      <th>3</th>\n",
       "      <td>1</td>\n",
       "      <td>3408</td>\n",
       "      <td>4</td>\n",
       "      <td>2000-12-31 22:04:35</td>\n",
       "      <td>F</td>\n",
       "      <td>1</td>\n",
       "      <td>10</td>\n",
       "      <td>48067</td>\n",
       "      <td>Erin Brockovich (2000)</td>\n",
       "      <td>Drama</td>\n",
       "    </tr>\n",
       "    <tr>\n",
       "      <th>4</th>\n",
       "      <td>1</td>\n",
       "      <td>2355</td>\n",
       "      <td>5</td>\n",
       "      <td>2001-01-06 23:38:11</td>\n",
       "      <td>F</td>\n",
       "      <td>1</td>\n",
       "      <td>10</td>\n",
       "      <td>48067</td>\n",
       "      <td>Bug's Life, A (1998)</td>\n",
       "      <td>Animation|Children's|Comedy</td>\n",
       "    </tr>\n",
       "  </tbody>\n",
       "</table>\n",
       "</div>"
      ],
      "text/plain": [
       "   user_id  movie_id  rating    rating_timestamp gender  age  occupation  \\\n",
       "0        1      1193       5 2000-12-31 22:12:40      F    1          10   \n",
       "1        1       661       3 2000-12-31 22:35:09      F    1          10   \n",
       "2        1       914       3 2000-12-31 22:32:48      F    1          10   \n",
       "3        1      3408       4 2000-12-31 22:04:35      F    1          10   \n",
       "4        1      2355       5 2001-01-06 23:38:11      F    1          10   \n",
       "\n",
       "  zip_code                             movie_title  \\\n",
       "0    48067  One Flew Over the Cuckoo's Nest (1975)   \n",
       "1    48067        James and the Giant Peach (1996)   \n",
       "2    48067                     My Fair Lady (1964)   \n",
       "3    48067                  Erin Brockovich (2000)   \n",
       "4    48067                    Bug's Life, A (1998)   \n",
       "\n",
       "                         genres  \n",
       "0                         Drama  \n",
       "1  Animation|Children's|Musical  \n",
       "2               Musical|Romance  \n",
       "3                         Drama  \n",
       "4   Animation|Children's|Comedy  "
      ]
     },
     "execution_count": 10,
     "metadata": {},
     "output_type": "execute_result"
    }
   ],
   "source": [
    "# Ensure that the merge has fully incorporated variables into one dataset\n",
    "movieData.head()"
   ]
  },
  {
   "cell_type": "code",
   "execution_count": 11,
   "metadata": {},
   "outputs": [],
   "source": [
    "# Create a copy of the dataset to modify by splitting the genres across columns (for later models)\n",
    "splitMovies = movieData.copy(deep=True)"
   ]
  },
  {
   "cell_type": "code",
   "execution_count": 12,
   "metadata": {},
   "outputs": [],
   "source": [
    "# Split genres across columns to facilitate later analyses involving genre\n",
    "splitMovies = pd.concat([movieData,movieData.genres.str.get_dummies(sep='|')],1)\n",
    "\n",
    "### CITATION: https://intellipaat.com/community/8334/split-column-into-unknown-number-of-columns-by-delimiter-pandas"
   ]
  },
  {
   "cell_type": "code",
   "execution_count": 13,
   "metadata": {},
   "outputs": [
    {
     "data": {
      "text/html": [
       "<div>\n",
       "<style scoped>\n",
       "    .dataframe tbody tr th:only-of-type {\n",
       "        vertical-align: middle;\n",
       "    }\n",
       "\n",
       "    .dataframe tbody tr th {\n",
       "        vertical-align: top;\n",
       "    }\n",
       "\n",
       "    .dataframe thead th {\n",
       "        text-align: right;\n",
       "    }\n",
       "</style>\n",
       "<table border=\"1\" class=\"dataframe\">\n",
       "  <thead>\n",
       "    <tr style=\"text-align: right;\">\n",
       "      <th></th>\n",
       "      <th>user_id</th>\n",
       "      <th>movie_id</th>\n",
       "      <th>rating</th>\n",
       "      <th>rating_timestamp</th>\n",
       "      <th>gender</th>\n",
       "      <th>age</th>\n",
       "      <th>occupation</th>\n",
       "      <th>zip_code</th>\n",
       "      <th>movie_title</th>\n",
       "      <th>genres</th>\n",
       "      <th>...</th>\n",
       "      <th>Fantasy</th>\n",
       "      <th>Film-Noir</th>\n",
       "      <th>Horror</th>\n",
       "      <th>Musical</th>\n",
       "      <th>Mystery</th>\n",
       "      <th>Romance</th>\n",
       "      <th>Sci-Fi</th>\n",
       "      <th>Thriller</th>\n",
       "      <th>War</th>\n",
       "      <th>Western</th>\n",
       "    </tr>\n",
       "  </thead>\n",
       "  <tbody>\n",
       "    <tr>\n",
       "      <th>0</th>\n",
       "      <td>1</td>\n",
       "      <td>1193</td>\n",
       "      <td>5</td>\n",
       "      <td>2000-12-31 22:12:40</td>\n",
       "      <td>F</td>\n",
       "      <td>1</td>\n",
       "      <td>10</td>\n",
       "      <td>48067</td>\n",
       "      <td>One Flew Over the Cuckoo's Nest (1975)</td>\n",
       "      <td>Drama</td>\n",
       "      <td>...</td>\n",
       "      <td>0</td>\n",
       "      <td>0</td>\n",
       "      <td>0</td>\n",
       "      <td>0</td>\n",
       "      <td>0</td>\n",
       "      <td>0</td>\n",
       "      <td>0</td>\n",
       "      <td>0</td>\n",
       "      <td>0</td>\n",
       "      <td>0</td>\n",
       "    </tr>\n",
       "    <tr>\n",
       "      <th>1</th>\n",
       "      <td>1</td>\n",
       "      <td>661</td>\n",
       "      <td>3</td>\n",
       "      <td>2000-12-31 22:35:09</td>\n",
       "      <td>F</td>\n",
       "      <td>1</td>\n",
       "      <td>10</td>\n",
       "      <td>48067</td>\n",
       "      <td>James and the Giant Peach (1996)</td>\n",
       "      <td>Animation|Children's|Musical</td>\n",
       "      <td>...</td>\n",
       "      <td>0</td>\n",
       "      <td>0</td>\n",
       "      <td>0</td>\n",
       "      <td>1</td>\n",
       "      <td>0</td>\n",
       "      <td>0</td>\n",
       "      <td>0</td>\n",
       "      <td>0</td>\n",
       "      <td>0</td>\n",
       "      <td>0</td>\n",
       "    </tr>\n",
       "    <tr>\n",
       "      <th>2</th>\n",
       "      <td>1</td>\n",
       "      <td>914</td>\n",
       "      <td>3</td>\n",
       "      <td>2000-12-31 22:32:48</td>\n",
       "      <td>F</td>\n",
       "      <td>1</td>\n",
       "      <td>10</td>\n",
       "      <td>48067</td>\n",
       "      <td>My Fair Lady (1964)</td>\n",
       "      <td>Musical|Romance</td>\n",
       "      <td>...</td>\n",
       "      <td>0</td>\n",
       "      <td>0</td>\n",
       "      <td>0</td>\n",
       "      <td>1</td>\n",
       "      <td>0</td>\n",
       "      <td>1</td>\n",
       "      <td>0</td>\n",
       "      <td>0</td>\n",
       "      <td>0</td>\n",
       "      <td>0</td>\n",
       "    </tr>\n",
       "    <tr>\n",
       "      <th>3</th>\n",
       "      <td>1</td>\n",
       "      <td>3408</td>\n",
       "      <td>4</td>\n",
       "      <td>2000-12-31 22:04:35</td>\n",
       "      <td>F</td>\n",
       "      <td>1</td>\n",
       "      <td>10</td>\n",
       "      <td>48067</td>\n",
       "      <td>Erin Brockovich (2000)</td>\n",
       "      <td>Drama</td>\n",
       "      <td>...</td>\n",
       "      <td>0</td>\n",
       "      <td>0</td>\n",
       "      <td>0</td>\n",
       "      <td>0</td>\n",
       "      <td>0</td>\n",
       "      <td>0</td>\n",
       "      <td>0</td>\n",
       "      <td>0</td>\n",
       "      <td>0</td>\n",
       "      <td>0</td>\n",
       "    </tr>\n",
       "    <tr>\n",
       "      <th>4</th>\n",
       "      <td>1</td>\n",
       "      <td>2355</td>\n",
       "      <td>5</td>\n",
       "      <td>2001-01-06 23:38:11</td>\n",
       "      <td>F</td>\n",
       "      <td>1</td>\n",
       "      <td>10</td>\n",
       "      <td>48067</td>\n",
       "      <td>Bug's Life, A (1998)</td>\n",
       "      <td>Animation|Children's|Comedy</td>\n",
       "      <td>...</td>\n",
       "      <td>0</td>\n",
       "      <td>0</td>\n",
       "      <td>0</td>\n",
       "      <td>0</td>\n",
       "      <td>0</td>\n",
       "      <td>0</td>\n",
       "      <td>0</td>\n",
       "      <td>0</td>\n",
       "      <td>0</td>\n",
       "      <td>0</td>\n",
       "    </tr>\n",
       "  </tbody>\n",
       "</table>\n",
       "<p>5 rows × 28 columns</p>\n",
       "</div>"
      ],
      "text/plain": [
       "   user_id  movie_id  rating    rating_timestamp gender  age  occupation  \\\n",
       "0        1      1193       5 2000-12-31 22:12:40      F    1          10   \n",
       "1        1       661       3 2000-12-31 22:35:09      F    1          10   \n",
       "2        1       914       3 2000-12-31 22:32:48      F    1          10   \n",
       "3        1      3408       4 2000-12-31 22:04:35      F    1          10   \n",
       "4        1      2355       5 2001-01-06 23:38:11      F    1          10   \n",
       "\n",
       "  zip_code                             movie_title  \\\n",
       "0    48067  One Flew Over the Cuckoo's Nest (1975)   \n",
       "1    48067        James and the Giant Peach (1996)   \n",
       "2    48067                     My Fair Lady (1964)   \n",
       "3    48067                  Erin Brockovich (2000)   \n",
       "4    48067                    Bug's Life, A (1998)   \n",
       "\n",
       "                         genres  ...  Fantasy  Film-Noir  Horror  Musical  \\\n",
       "0                         Drama  ...        0          0       0        0   \n",
       "1  Animation|Children's|Musical  ...        0          0       0        1   \n",
       "2               Musical|Romance  ...        0          0       0        1   \n",
       "3                         Drama  ...        0          0       0        0   \n",
       "4   Animation|Children's|Comedy  ...        0          0       0        0   \n",
       "\n",
       "   Mystery  Romance  Sci-Fi  Thriller  War  Western  \n",
       "0        0        0       0         0    0        0  \n",
       "1        0        0       0         0    0        0  \n",
       "2        0        1       0         0    0        0  \n",
       "3        0        0       0         0    0        0  \n",
       "4        0        0       0         0    0        0  \n",
       "\n",
       "[5 rows x 28 columns]"
      ]
     },
     "execution_count": 13,
     "metadata": {},
     "output_type": "execute_result"
    }
   ],
   "source": [
    "# Ensure that the dummy variables have allowed us to split the 18 genres across columns\n",
    "splitMovies.head()"
   ]
  },
  {
   "cell_type": "code",
   "execution_count": 13,
   "metadata": {},
   "outputs": [],
   "source": [
    "# Create a copy of the dataset to modify by creating dummy variables for genre (for multiple regression)\n",
    "dumMovies = movieData.copy(deep=True)"
   ]
  },
  {
   "cell_type": "code",
   "execution_count": 14,
   "metadata": {},
   "outputs": [],
   "source": [
    "# Create dummy variables for genres/genre combinations\n",
    "dummies = pd.get_dummies(dumMovies['genres'], drop_first = False)\n",
    "\n",
    "# Drop the column for which we created the dummy variable\n",
    "dumMovies = dumMovies.drop(['genres'], axis = 1)\n",
    "\n",
    "# Merge the newly created dummy variables with the X set of predictors\n",
    "dumMovies = pd.concat([dumMovies, dummies[['Animation|Comedy|Thriller', 'Sci-Fi|War', 'Animation',\n",
    "                                           'Film-Noir|Mystery', 'Adventure|War']]], axis = 1) # highest rated genre combos\n",
    "\n",
    "### CITATION: Prior data dive with Adam Loren Tschida, who derived this from Data 1500 and Predictive Modeling\n",
    "### CITATION: https://pandas.pydata.org/docs/reference/api/pandas.concat.html"
   ]
  },
  {
   "cell_type": "code",
   "execution_count": 15,
   "metadata": {},
   "outputs": [
    {
     "name": "stdout",
     "output_type": "stream",
     "text": [
      "<class 'pandas.core.frame.DataFrame'>\n",
      "Int64Index: 1000209 entries, 0 to 1000208\n",
      "Data columns (total 14 columns):\n",
      " #   Column                     Non-Null Count    Dtype         \n",
      "---  ------                     --------------    -----         \n",
      " 0   user_id                    1000209 non-null  int64         \n",
      " 1   movie_id                   1000209 non-null  int64         \n",
      " 2   rating                     1000209 non-null  int64         \n",
      " 3   rating_timestamp           1000209 non-null  datetime64[ns]\n",
      " 4   gender                     1000209 non-null  object        \n",
      " 5   age                        1000209 non-null  int64         \n",
      " 6   occupation                 1000209 non-null  int64         \n",
      " 7   zip_code                   1000209 non-null  object        \n",
      " 8   movie_title                1000209 non-null  object        \n",
      " 9   Animation|Comedy|Thriller  1000209 non-null  uint8         \n",
      " 10  Sci-Fi|War                 1000209 non-null  uint8         \n",
      " 11  Animation                  1000209 non-null  uint8         \n",
      " 12  Film-Noir|Mystery          1000209 non-null  uint8         \n",
      " 13  Adventure|War              1000209 non-null  uint8         \n",
      "dtypes: datetime64[ns](1), int64(5), object(3), uint8(5)\n",
      "memory usage: 81.1+ MB\n"
     ]
    }
   ],
   "source": [
    "# Ensure that variables for the highest rated genre combinations (five) have been properly created\n",
    "dumMovies.info()"
   ]
  },
  {
   "cell_type": "markdown",
   "metadata": {},
   "source": [
    "### Preliminary Graphs"
   ]
  },
  {
   "cell_type": "markdown",
   "metadata": {},
   "source": [
    "##### User Visualizations"
   ]
  },
  {
   "cell_type": "code",
   "execution_count": 16,
   "metadata": {},
   "outputs": [],
   "source": [
    "# Create variables for ticks and occupations used in the graph below on users in each occupation\n",
    "occTicks = [0, 1, 2, 3, 4, 5, 6, 7, 8, 9, 10, 11, 12, 13, 14, 15, 16, 17, 18, 19, 20]\n",
    "occupations = ['Other', 'Academic', 'Artist', 'Clerical', 'College', 'Customer Service', 'Health Care', 'Executive',\n",
    "               'Farmer', 'Homemaker', 'K-12 Student', 'Lawyer', 'Programmer', 'Retired', 'Sales', 'Scientist',\n",
    "               'Self-Employed', 'Technician', 'Tradesman', 'Unemployed', 'Writer']"
   ]
  },
  {
   "cell_type": "code",
   "execution_count": 17,
   "metadata": {},
   "outputs": [
    {
     "data": {
      "image/png": "[encoded data removed]",
      "text/plain": [
       "<Figure size 648x432 with 1 Axes>"
      ]
     },
     "metadata": {},
     "output_type": "display_data"
    }
   ],
   "source": [
    "# Create a visualization for the number in each occupation\n",
    "sns.set_theme(style=\"whitegrid\") # from Data Science 1500\n",
    "sns.set(rc={'figure.figsize':(9,6)})\n",
    "sns.countplot(x='occupation', data=movieData, capsize=.1, palette=\"viridis\")\n",
    "\n",
    "plt.xticks(occTicks, labels=occupations, rotation = 70) # set more descriptive, rotated labels\n",
    "\n",
    "plt.show()\n",
    "\n",
    "### CITATION: https://seaborn.pydata.org/generated/seaborn.countplot.html\n",
    "### COLOR CITATION: https://medium.com/@morganjonesartist/color-guide-to-seaborn-palettes-da849406d44f\n",
    "### LABEL CITATION: https://matplotlib.org/stable/api/_as_gen/matplotlib.pyplot.xticks.html\n",
    "### WHITEGRID CITATION: Dr. Scott Siepel, Data 1500"
   ]
  },
  {
   "cell_type": "code",
   "execution_count": 18,
   "metadata": {},
   "outputs": [
    {
     "data": {
      "text/plain": [
       "4     131032\n",
       "0     130499\n",
       "7     105425\n",
       "1      85351\n",
       "17     72816\n",
       "20     60397\n",
       "12     57214\n",
       "2      50068\n",
       "14     49109\n",
       "16     46021\n",
       "6      37205\n",
       "3      31623\n",
       "10     23290\n",
       "15     22951\n",
       "5      21850\n",
       "11     20563\n",
       "19     14904\n",
       "13     13754\n",
       "18     12086\n",
       "9      11345\n",
       "8       2706\n",
       "Name: occupation, dtype: int64"
      ]
     },
     "execution_count": 18,
     "metadata": {},
     "output_type": "execute_result"
    }
   ],
   "source": [
    "# Analyze the number of observations in each column to determine whether 4(college/grad student) or 0(other/not specified)\n",
    "# has the most users.\n",
    "movieData['occupation'].value_counts('')\n",
    "\n",
    "# College/grad student has the most observations."
   ]
  },
  {
   "cell_type": "code",
   "execution_count": 19,
   "metadata": {},
   "outputs": [
    {
     "data": {
      "image/png": "[encoded data removed]",
      "text/plain": [
       "<Figure size 648x432 with 1 Axes>"
      ]
     },
     "metadata": {},
     "output_type": "display_data"
    }
   ],
   "source": [
    "# Create a visualization for the number in each gender category\n",
    "sns.set_theme(style=\"whitegrid\")\n",
    "sns.set(rc={'figure.figsize':(9,6)})\n",
    "sns.countplot(x='gender', data=movieData, palette=\"viridis\")\n",
    "\n",
    "plt.show()\n",
    "\n",
    "### CITATION: https://seaborn.pydata.org/generated/seaborn.countplot.html"
   ]
  },
  {
   "cell_type": "code",
   "execution_count": 20,
   "metadata": {},
   "outputs": [
    {
     "data": {
      "text/plain": [
       "M    753769\n",
       "F    246440\n",
       "Name: gender, dtype: int64"
      ]
     },
     "execution_count": 20,
     "metadata": {},
     "output_type": "execute_result"
    }
   ],
   "source": [
    "# Note exactly how many users listed each gender\n",
    "movieData['gender'].value_counts('')"
   ]
  },
  {
   "cell_type": "code",
   "execution_count": 22,
   "metadata": {},
   "outputs": [
    {
     "data": {
      "image/png": "[encoded data removed]",
      "text/plain": [
       "<Figure size 648x432 with 1 Axes>"
      ]
     },
     "metadata": {},
     "output_type": "display_data"
    }
   ],
   "source": [
    "# Create a visualization for the number of users in each occupation and whether they are male or female\n",
    "sns.set_theme(style=\"whitegrid\")\n",
    "sns.set(rc={'figure.figsize':(9,6)})\n",
    "sns.countplot(x='occupation', hue='gender', data=movieData, palette=\"viridis\")\n",
    "\n",
    "plt.xticks(occTicks, labels=occupations, rotation = 70) # rotate the labels\n",
    "\n",
    "plt.show()\n",
    "\n",
    "### CITATION: https://seaborn.pydata.org/generated/seaborn.countplot.html\n",
    "### LABEL CITATION: https://matplotlib.org/stable/api/_as_gen/matplotlib.pyplot.xticks.html"
   ]
  },
  {
   "cell_type": "code",
   "execution_count": 23,
   "metadata": {},
   "outputs": [],
   "source": [
    "# Create labels for the age category visualization below\n",
    "ageTicks = [0, 1, 2, 3, 4, 5, 6]\n",
    "ageCat = ['Under 18', '18-24', '25-34', '35-44', '45-49', '50-55', '56+']"
   ]
  },
  {
   "cell_type": "code",
   "execution_count": 24,
   "metadata": {},
   "outputs": [
    {
     "data": {
      "image/png": "[encoded data removed]",
      "text/plain": [
       "<Figure size 648x432 with 1 Axes>"
      ]
     },
     "metadata": {},
     "output_type": "display_data"
    }
   ],
   "source": [
    "# Create age category visualization\n",
    "sns.set_theme(style=\"whitegrid\")\n",
    "sns.set(rc={'figure.figsize':(9,6)})\n",
    "sns.countplot(x='age', data=movieData, palette=\"viridis\")\n",
    "\n",
    "plt.xticks(ticks=ageTicks, labels=ageCat) # set more descriptive age category labels\n",
    "\n",
    "plt.show()\n",
    "\n",
    "### CITATION: https://seaborn.pydata.org/generated/seaborn.countplot.html"
   ]
  },
  {
   "cell_type": "markdown",
   "metadata": {},
   "source": [
    "##### Movie Visualizations"
   ]
  },
  {
   "cell_type": "code",
   "execution_count": 25,
   "metadata": {},
   "outputs": [
    {
     "data": {
      "image/png": "[encoded data removed]",
      "text/plain": [
       "<Figure size 648x432 with 1 Axes>"
      ]
     },
     "metadata": {},
     "output_type": "display_data"
    }
   ],
   "source": [
    "# Create a visualization for movie ratings\n",
    "sns.set_theme(style=\"whitegrid\")\n",
    "sns.set(rc={'figure.figsize':(9,6)})\n",
    "sns.countplot(x='rating', data=movieData, capsize=.1, palette=\"viridis\")\n",
    "\n",
    "plt.show()"
   ]
  },
  {
   "cell_type": "code",
   "execution_count": 26,
   "metadata": {},
   "outputs": [
    {
     "name": "stdout",
     "output_type": "stream",
     "text": [
      "3.581564453029317\n"
     ]
    }
   ],
   "source": [
    "# Calculate the mean movie rating for the sample to use as a reference\n",
    "meanRating = movieData['rating'].mean()\n",
    "print(meanRating)"
   ]
  },
  {
   "cell_type": "markdown",
   "metadata": {},
   "source": [
    "### Splitting by Genre/Occupation to Answer our Main Question"
   ]
  },
  {
   "cell_type": "markdown",
   "metadata": {},
   "source": [
    "##### Genre/Occupation Visualizations"
   ]
  },
  {
   "cell_type": "code",
   "execution_count": 27,
   "metadata": {},
   "outputs": [],
   "source": [
    "# use original dataset and create a function to later create a visualization for the number of movies in each genre\n",
    "def genre_split():\n",
    "    genres = []\n",
    "    \n",
    "    for x in movieData['genres']:\n",
    "        if \"|\" in x:\n",
    "            split_genres = x.split(\"|\")\n",
    "            for genre in split_genres:\n",
    "                genres.append(genre)\n",
    "        else:\n",
    "            genres.append(x)\n",
    "            \n",
    "    return genres"
   ]
  },
  {
   "cell_type": "code",
   "execution_count": 44,
   "metadata": {},
   "outputs": [
    {
     "data": {
      "image/png": "[encoded data removed]",
      "text/plain": [
       "<Figure size 648x432 with 1 Axes>"
      ]
     },
     "metadata": {},
     "output_type": "display_data"
    }
   ],
   "source": [
    "# Create a visualization for the number of movies in each genre\n",
    "sns.set_theme(style=\"whitegrid\")\n",
    "sns.set(rc={'figure.figsize':(9,6)})\n",
    "\n",
    "sns.countplot(x=genre_split(), data=movieData, palette=\"viridis\") # use the function to create the graph\n",
    "plt.xticks(rotation=45) # rotate the movie genre names\n",
    "\n",
    "plt.show()\n",
    "\n",
    "### CITATION: https://stackoverflow.com/questions/26540035/rotate-label-text-in-seaborn-factorplot"
   ]
  },
  {
   "cell_type": "code",
   "execution_count": 2,
   "metadata": {},
   "outputs": [
    {
     "ename": "SyntaxError",
     "evalue": "invalid syntax (<ipython-input-2-fd55d5323480>, line 9)",
     "output_type": "error",
     "traceback": [
      "\u001b[1;36m  File \u001b[1;32m\"<ipython-input-2-fd55d5323480>\"\u001b[1;36m, line \u001b[1;32m9\u001b[0m\n\u001b[1;33m    df_corrBase\u001b[0m\n\u001b[1;37m    ^\u001b[0m\n\u001b[1;31mSyntaxError\u001b[0m\u001b[1;31m:\u001b[0m invalid syntax\n"
     ]
    }
   ],
   "source": [
    "df_corrBase = splitMovies.corr().round(3)\n",
    "df_corrBase = pd.DataFrame(corrBase)\n",
    "df_corrBase\n",
    "df_corrBase.drop(labels=[\"user_id\", \"movie_id\", \"occupation\", \"Action\", \"Animation\", \"Children's\", \"Comedy\", \n",
    "                         #\"Crime\", \"Documentary\", \"Drama\", \"Adventure\", \"Fantasy\", \"Film-Noir\", \n",
    "                         #\"Horror\", \"Musical\", \"Mystery\", \"Romance\", \"Sci-Fi\", \"Thriller\", \"War\",\n",
    "                         #\"Western\"], axis=1, inplace=True)\n",
    "df_corrBase.drop(labels=[\"user_id\", \"movie_id\", \"occupation\"], axis=0, inplace=True)\n",
    "df_corrBase"
   ]
  },
  {
   "cell_type": "code",
   "execution_count": 33,
   "metadata": {},
   "outputs": [
    {
     "data": {
      "text/plain": [
       "(array([0, 1, 2, 3, 4, 5, 6, 7, 8, 9]),\n",
       " [Text(0, 0, '2578'),\n",
       "  Text(1, 0, '2583'),\n",
       "  Text(2, 0, '2590'),\n",
       "  Text(3, 0, '2649'),\n",
       "  Text(4, 0, '2653'),\n",
       "  Text(5, 0, '2672'),\n",
       "  Text(6, 0, '2883'),\n",
       "  Text(7, 0, '2990'),\n",
       "  Text(8, 0, '2991'),\n",
       "  Text(9, 0, '3428')])"
      ]
     },
     "execution_count": 33,
     "metadata": {},
     "output_type": "execute_result"
    },
    {
     "data": {
      "image/png": "[encoded data removed]",
      "text/plain": [
       "<Figure size 648x432 with 1 Axes>"
      ]
     },
     "metadata": {},
     "output_type": "display_data"
    }
   ],
   "source": [
    "multipleRatings = pd.DataFrame(movieData)\n",
    "multipleRatings.sort_values(by=['movie_title'], inplace=True, ascending=True)\n",
    "\n",
    "def count_occurences():\n",
    "    \n",
    "\n",
    "multipleRatings\n",
    "#multipleRatings.\n",
    "\n",
    "# Create a visualization for the number of movies in each genre\n",
    "sns.set_theme(style=\"whitegrid\")\n",
    "sns.set(rc={'figure.figsize':(9,6)})\n",
    "\n",
    "sns.countplot(x=multipleRatings['movie_title'].value_counts()[:10], data=movieData, palette=\"viridis\") # use the function to create the graph\n",
    "plt.xticks(rotation=45) # rotate the movie genre names\n",
    "\n",
    "#plt.show()\n",
    "\n",
    "#multipleRatings.sort_values(by=['movie_id'], inplace=True)\n",
    "#multipleRatings"
   ]
  },
  {
   "cell_type": "markdown",
   "metadata": {},
   "source": [
    "##### Multiple Regression between Occupation, Age, and Highest-Rated Genre Combination Ratings\n",
    "###### CITATION: Dr. Siepel's Data 1500 Course"
   ]
  },
  {
   "cell_type": "code",
   "execution_count": 29,
   "metadata": {},
   "outputs": [],
   "source": [
    "# Re-create a dataframe with all fields to be used in the regression\n",
    "df_reg = dumMovies[['occupation', 'age', 'rating','Animation|Comedy|Thriller', 'Sci-Fi|War', 'Animation',\n",
    "                    'Film-Noir|Mystery', 'Adventure|War']].copy() # returning to dumMovies dataset for top 5 genre combos\n",
    "\n",
    "# Drop rows that are not complete (i.e. have missing values)\n",
    "df_reg.dropna(inplace=True)\n",
    "\n",
    "# Set up target dataframe\n",
    "y = df_reg[['rating']].copy()\n",
    "y.reset_index(drop=True, inplace=True) \n",
    "\n",
    "# Set up features dataframe\n",
    "X = df_reg.drop(['rating'], axis=1)\n",
    "X.reset_index(drop=True, inplace=True)\n",
    "\n",
    "### CITATION: Entire model is from Dr. Siepel's Data 1500 Course"
   ]
  },
  {
   "cell_type": "code",
   "execution_count": 30,
   "metadata": {},
   "outputs": [
    {
     "name": "stdout",
     "output_type": "stream",
     "text": [
      "<class 'pandas.core.frame.DataFrame'>\n",
      "Int64Index: 1000209 entries, 0 to 1000208\n",
      "Data columns (total 14 columns):\n",
      " #   Column                     Non-Null Count    Dtype         \n",
      "---  ------                     --------------    -----         \n",
      " 0   user_id                    1000209 non-null  int64         \n",
      " 1   movie_id                   1000209 non-null  int64         \n",
      " 2   rating                     1000209 non-null  int64         \n",
      " 3   rating_timestamp           1000209 non-null  datetime64[ns]\n",
      " 4   gender                     1000209 non-null  object        \n",
      " 5   age                        1000209 non-null  int64         \n",
      " 6   occupation                 1000209 non-null  int64         \n",
      " 7   zip_code                   1000209 non-null  object        \n",
      " 8   movie_title                1000209 non-null  object        \n",
      " 9   Animation|Comedy|Thriller  1000209 non-null  uint8         \n",
      " 10  Sci-Fi|War                 1000209 non-null  uint8         \n",
      " 11  Animation                  1000209 non-null  uint8         \n",
      " 12  Film-Noir|Mystery          1000209 non-null  uint8         \n",
      " 13  Adventure|War              1000209 non-null  uint8         \n",
      "dtypes: datetime64[ns](1), int64(5), object(3), uint8(5)\n",
      "memory usage: 81.1+ MB\n"
     ]
    }
   ],
   "source": [
    "dumMovies.info()"
   ]
  },
  {
   "cell_type": "code",
   "execution_count": 31,
   "metadata": {},
   "outputs": [],
   "source": [
    "# Code Block 36\n",
    "# Set up scaler to put features on same basis\n",
    "std_scaler = StandardScaler()\n",
    "\n",
    "# Apply scaler to entirety of features\n",
    "X_scaled = std_scaler.fit_transform(X)"
   ]
  },
  {
   "cell_type": "code",
   "execution_count": 32,
   "metadata": {},
   "outputs": [],
   "source": [
    "### REFINE AND IDENTIFY IMPORTANT FEATURES\n",
    "# Define recursive elimination search using cross-validated folds and scoring\n",
    "rfe = RFECV(estimator=LinearRegression(), step=1, cv=KFold(n_splits=10), scoring='neg_mean_absolute_error')\n",
    "\n",
    "# Fit defined RFE model to scaled data\n",
    "rfe_model = rfe.fit(X_scaled,y)"
   ]
  },
  {
   "cell_type": "code",
   "execution_count": 33,
   "metadata": {},
   "outputs": [
    {
     "data": {
      "text/plain": [
       "array([False,  True,  True,  True,  True,  True,  True])"
      ]
     },
     "execution_count": 33,
     "metadata": {},
     "output_type": "execute_result"
    }
   ],
   "source": [
    "# Show binary results for inclusion of each feature in the data\n",
    "rfe_model.support_"
   ]
  },
  {
   "cell_type": "code",
   "execution_count": 34,
   "metadata": {},
   "outputs": [
    {
     "data": {
      "text/plain": [
       "Index(['age', 'Animation|Comedy|Thriller', 'Sci-Fi|War', 'Animation',\n",
       "       'Film-Noir|Mystery', 'Adventure|War'],\n",
       "      dtype='object')"
      ]
     },
     "execution_count": 34,
     "metadata": {},
     "output_type": "execute_result"
    }
   ],
   "source": [
    "# Get list of best features by apply binary results against original feature dataframe\n",
    "X.columns[rfe_model.support_]"
   ]
  },
  {
   "cell_type": "code",
   "execution_count": 35,
   "metadata": {},
   "outputs": [
    {
     "data": {
      "text/html": [
       "<div>\n",
       "<style scoped>\n",
       "    .dataframe tbody tr th:only-of-type {\n",
       "        vertical-align: middle;\n",
       "    }\n",
       "\n",
       "    .dataframe tbody tr th {\n",
       "        vertical-align: top;\n",
       "    }\n",
       "\n",
       "    .dataframe thead th {\n",
       "        text-align: right;\n",
       "    }\n",
       "</style>\n",
       "<table border=\"1\" class=\"dataframe\">\n",
       "  <thead>\n",
       "    <tr style=\"text-align: right;\">\n",
       "      <th></th>\n",
       "      <th>age</th>\n",
       "      <th>Animation|Comedy|Thriller</th>\n",
       "      <th>Sci-Fi|War</th>\n",
       "      <th>Animation</th>\n",
       "      <th>Film-Noir|Mystery</th>\n",
       "      <th>Adventure|War</th>\n",
       "    </tr>\n",
       "  </thead>\n",
       "  <tbody>\n",
       "    <tr>\n",
       "      <th>0</th>\n",
       "      <td>1</td>\n",
       "      <td>0</td>\n",
       "      <td>0</td>\n",
       "      <td>0</td>\n",
       "      <td>0</td>\n",
       "      <td>0</td>\n",
       "    </tr>\n",
       "    <tr>\n",
       "      <th>1</th>\n",
       "      <td>1</td>\n",
       "      <td>0</td>\n",
       "      <td>0</td>\n",
       "      <td>0</td>\n",
       "      <td>0</td>\n",
       "      <td>0</td>\n",
       "    </tr>\n",
       "    <tr>\n",
       "      <th>2</th>\n",
       "      <td>1</td>\n",
       "      <td>0</td>\n",
       "      <td>0</td>\n",
       "      <td>0</td>\n",
       "      <td>0</td>\n",
       "      <td>0</td>\n",
       "    </tr>\n",
       "    <tr>\n",
       "      <th>3</th>\n",
       "      <td>1</td>\n",
       "      <td>0</td>\n",
       "      <td>0</td>\n",
       "      <td>0</td>\n",
       "      <td>0</td>\n",
       "      <td>0</td>\n",
       "    </tr>\n",
       "    <tr>\n",
       "      <th>4</th>\n",
       "      <td>1</td>\n",
       "      <td>0</td>\n",
       "      <td>0</td>\n",
       "      <td>0</td>\n",
       "      <td>0</td>\n",
       "      <td>0</td>\n",
       "    </tr>\n",
       "    <tr>\n",
       "      <th>...</th>\n",
       "      <td>...</td>\n",
       "      <td>...</td>\n",
       "      <td>...</td>\n",
       "      <td>...</td>\n",
       "      <td>...</td>\n",
       "      <td>...</td>\n",
       "    </tr>\n",
       "    <tr>\n",
       "      <th>1000204</th>\n",
       "      <td>25</td>\n",
       "      <td>0</td>\n",
       "      <td>0</td>\n",
       "      <td>0</td>\n",
       "      <td>0</td>\n",
       "      <td>0</td>\n",
       "    </tr>\n",
       "    <tr>\n",
       "      <th>1000205</th>\n",
       "      <td>25</td>\n",
       "      <td>0</td>\n",
       "      <td>0</td>\n",
       "      <td>0</td>\n",
       "      <td>0</td>\n",
       "      <td>0</td>\n",
       "    </tr>\n",
       "    <tr>\n",
       "      <th>1000206</th>\n",
       "      <td>25</td>\n",
       "      <td>0</td>\n",
       "      <td>0</td>\n",
       "      <td>0</td>\n",
       "      <td>0</td>\n",
       "      <td>0</td>\n",
       "    </tr>\n",
       "    <tr>\n",
       "      <th>1000207</th>\n",
       "      <td>25</td>\n",
       "      <td>0</td>\n",
       "      <td>0</td>\n",
       "      <td>0</td>\n",
       "      <td>0</td>\n",
       "      <td>0</td>\n",
       "    </tr>\n",
       "    <tr>\n",
       "      <th>1000208</th>\n",
       "      <td>25</td>\n",
       "      <td>0</td>\n",
       "      <td>0</td>\n",
       "      <td>0</td>\n",
       "      <td>0</td>\n",
       "      <td>0</td>\n",
       "    </tr>\n",
       "  </tbody>\n",
       "</table>\n",
       "<p>1000209 rows × 6 columns</p>\n",
       "</div>"
      ],
      "text/plain": [
       "         age  Animation|Comedy|Thriller  Sci-Fi|War  Animation  \\\n",
       "0          1                          0           0          0   \n",
       "1          1                          0           0          0   \n",
       "2          1                          0           0          0   \n",
       "3          1                          0           0          0   \n",
       "4          1                          0           0          0   \n",
       "...      ...                        ...         ...        ...   \n",
       "1000204   25                          0           0          0   \n",
       "1000205   25                          0           0          0   \n",
       "1000206   25                          0           0          0   \n",
       "1000207   25                          0           0          0   \n",
       "1000208   25                          0           0          0   \n",
       "\n",
       "         Film-Noir|Mystery  Adventure|War  \n",
       "0                        0              0  \n",
       "1                        0              0  \n",
       "2                        0              0  \n",
       "3                        0              0  \n",
       "4                        0              0  \n",
       "...                    ...            ...  \n",
       "1000204                  0              0  \n",
       "1000205                  0              0  \n",
       "1000206                  0              0  \n",
       "1000207                  0              0  \n",
       "1000208                  0              0  \n",
       "\n",
       "[1000209 rows x 6 columns]"
      ]
     },
     "execution_count": 35,
     "metadata": {},
     "output_type": "execute_result"
    }
   ],
   "source": [
    "# Use binary results to populate new feature dataframe with chosen features\n",
    "X_rfe = X[X.columns[rfe_model.support_]]\n",
    "X_rfe"
   ]
  },
  {
   "cell_type": "code",
   "execution_count": 36,
   "metadata": {},
   "outputs": [
    {
     "data": {
      "text/html": [
       "<table class=\"simpletable\">\n",
       "<caption>OLS Regression Results</caption>\n",
       "<tr>\n",
       "  <th>Dep. Variable:</th>         <td>rating</td>      <th>  R-squared:         </th>  <td>   0.006</td>  \n",
       "</tr>\n",
       "<tr>\n",
       "  <th>Model:</th>                   <td>OLS</td>       <th>  Adj. R-squared:    </th>  <td>   0.006</td>  \n",
       "</tr>\n",
       "<tr>\n",
       "  <th>Method:</th>             <td>Least Squares</td>  <th>  F-statistic:       </th>  <td>   1038.</td>  \n",
       "</tr>\n",
       "<tr>\n",
       "  <th>Date:</th>             <td>Sun, 24 Oct 2021</td> <th>  Prob (F-statistic):</th>   <td>  0.00</td>   \n",
       "</tr>\n",
       "<tr>\n",
       "  <th>Time:</th>                 <td>16:19:23</td>     <th>  Log-Likelihood:    </th> <td>-1.5269e+06</td>\n",
       "</tr>\n",
       "<tr>\n",
       "  <th>No. Observations:</th>      <td>1000209</td>     <th>  AIC:               </th>  <td>3.054e+06</td> \n",
       "</tr>\n",
       "<tr>\n",
       "  <th>Df Residuals:</th>          <td>1000202</td>     <th>  BIC:               </th>  <td>3.054e+06</td> \n",
       "</tr>\n",
       "<tr>\n",
       "  <th>Df Model:</th>              <td>     6</td>      <th>                     </th>      <td> </td>     \n",
       "</tr>\n",
       "<tr>\n",
       "  <th>Covariance Type:</th>      <td>nonrobust</td>    <th>                     </th>      <td> </td>     \n",
       "</tr>\n",
       "</table>\n",
       "<table class=\"simpletable\">\n",
       "<tr>\n",
       "              <td></td>                 <th>coef</th>     <th>std err</th>      <th>t</th>      <th>P>|t|</th>  <th>[0.025</th>    <th>0.975]</th>  \n",
       "</tr>\n",
       "<tr>\n",
       "  <th>const</th>                     <td>    3.4192</td> <td>    0.003</td> <td> 1128.303</td> <td> 0.000</td> <td>    3.413</td> <td>    3.425</td>\n",
       "</tr>\n",
       "<tr>\n",
       "  <th>age</th>                       <td>    0.0053</td> <td> 9.48e-05</td> <td>   55.957</td> <td> 0.000</td> <td>    0.005</td> <td>    0.005</td>\n",
       "</tr>\n",
       "<tr>\n",
       "  <th>Animation|Comedy|Thriller</th> <td>    0.9094</td> <td>    0.042</td> <td>   21.412</td> <td> 0.000</td> <td>    0.826</td> <td>    0.993</td>\n",
       "</tr>\n",
       "<tr>\n",
       "  <th>Sci-Fi|War</th>                <td>    0.8605</td> <td>    0.030</td> <td>   28.548</td> <td> 0.000</td> <td>    0.801</td> <td>    0.920</td>\n",
       "</tr>\n",
       "<tr>\n",
       "  <th>Animation</th>                 <td>    0.8271</td> <td>    0.052</td> <td>   15.908</td> <td> 0.000</td> <td>    0.725</td> <td>    0.929</td>\n",
       "</tr>\n",
       "<tr>\n",
       "  <th>Film-Noir|Mystery</th>         <td>    0.7607</td> <td>    0.028</td> <td>   27.159</td> <td> 0.000</td> <td>    0.706</td> <td>    0.816</td>\n",
       "</tr>\n",
       "<tr>\n",
       "  <th>Adventure|War</th>             <td>    0.7400</td> <td>    0.027</td> <td>   26.917</td> <td> 0.000</td> <td>    0.686</td> <td>    0.794</td>\n",
       "</tr>\n",
       "</table>\n",
       "<table class=\"simpletable\">\n",
       "<tr>\n",
       "  <th>Omnibus:</th>       <td>51143.264</td> <th>  Durbin-Watson:     </th> <td>   1.652</td> \n",
       "</tr>\n",
       "<tr>\n",
       "  <th>Prob(Omnibus):</th>  <td> 0.000</td>   <th>  Jarque-Bera (JB):  </th> <td>54483.206</td>\n",
       "</tr>\n",
       "<tr>\n",
       "  <th>Skew:</th>           <td>-0.544</td>   <th>  Prob(JB):          </th> <td>    0.00</td> \n",
       "</tr>\n",
       "<tr>\n",
       "  <th>Kurtosis:</th>       <td> 2.646</td>   <th>  Cond. No.          </th> <td>1.49e+03</td> \n",
       "</tr>\n",
       "</table><br/><br/>Notes:<br/>[1] Standard Errors assume that the covariance matrix of the errors is correctly specified.<br/>[2] The condition number is large, 1.49e+03. This might indicate that there are<br/>strong multicollinearity or other numerical problems."
      ],
      "text/plain": [
       "<class 'statsmodels.iolib.summary.Summary'>\n",
       "\"\"\"\n",
       "                            OLS Regression Results                            \n",
       "==============================================================================\n",
       "Dep. Variable:                 rating   R-squared:                       0.006\n",
       "Model:                            OLS   Adj. R-squared:                  0.006\n",
       "Method:                 Least Squares   F-statistic:                     1038.\n",
       "Date:                Sun, 24 Oct 2021   Prob (F-statistic):               0.00\n",
       "Time:                        16:19:23   Log-Likelihood:            -1.5269e+06\n",
       "No. Observations:             1000209   AIC:                         3.054e+06\n",
       "Df Residuals:                 1000202   BIC:                         3.054e+06\n",
       "Df Model:                           6                                         \n",
       "Covariance Type:            nonrobust                                         \n",
       "=============================================================================================\n",
       "                                coef    std err          t      P>|t|      [0.025      0.975]\n",
       "---------------------------------------------------------------------------------------------\n",
       "const                         3.4192      0.003   1128.303      0.000       3.413       3.425\n",
       "age                           0.0053   9.48e-05     55.957      0.000       0.005       0.005\n",
       "Animation|Comedy|Thriller     0.9094      0.042     21.412      0.000       0.826       0.993\n",
       "Sci-Fi|War                    0.8605      0.030     28.548      0.000       0.801       0.920\n",
       "Animation                     0.8271      0.052     15.908      0.000       0.725       0.929\n",
       "Film-Noir|Mystery             0.7607      0.028     27.159      0.000       0.706       0.816\n",
       "Adventure|War                 0.7400      0.027     26.917      0.000       0.686       0.794\n",
       "==============================================================================\n",
       "Omnibus:                    51143.264   Durbin-Watson:                   1.652\n",
       "Prob(Omnibus):                  0.000   Jarque-Bera (JB):            54483.206\n",
       "Skew:                          -0.544   Prob(JB):                         0.00\n",
       "Kurtosis:                       2.646   Cond. No.                     1.49e+03\n",
       "==============================================================================\n",
       "\n",
       "Notes:\n",
       "[1] Standard Errors assume that the covariance matrix of the errors is correctly specified.\n",
       "[2] The condition number is large, 1.49e+03. This might indicate that there are\n",
       "strong multicollinearity or other numerical problems.\n",
       "\"\"\""
      ]
     },
     "execution_count": 36,
     "metadata": {},
     "output_type": "execute_result"
    }
   ],
   "source": [
    "### UTILIZE IDENTIFIED FEATURES TO BUILD AND EVALUATE FINAL REGRESSION MODEL\n",
    "# Fit regression model on RFE chosen set of features\n",
    "reg = sm.OLS(y, sm.add_constant(X_rfe)).fit()\n",
    "\n",
    "# Create predictions and store in a list\n",
    "pred = reg.predict(sm.add_constant(X_rfe)) \n",
    "\n",
    "# Create residuals in a list\n",
    "resid = reg.resid\n",
    "\n",
    "# Show summary statistics for regression\n",
    "reg.summary()"
   ]
  },
  {
   "cell_type": "code",
   "execution_count": 37,
   "metadata": {},
   "outputs": [
    {
     "data": {
      "text/plain": [
       "<Figure size 1152x576 with 0 Axes>"
      ]
     },
     "metadata": {},
     "output_type": "display_data"
    },
    {
     "data": {
      "image/png": "[encoded data removed]",
      "text/plain": [
       "<Figure size 576x576 with 3 Axes>"
      ]
     },
     "metadata": {},
     "output_type": "display_data"
    }
   ],
   "source": [
    "# Evalute residuals for RFE regression model\n",
    "plt.figure(figsize=(16,8))\n",
    "sns.jointplot(x=pred, y=resid, kind=\"reg\", ratio=5, height=8, \n",
    "              line_kws={'color': 'black'})\n",
    "plt.xlabel('Predicted Rating', fontweight='bold', fontsize='14', ha='center')\n",
    "plt.ylabel('Residual', fontweight='bold', fontsize='14', ha='center')\n",
    "plt.suptitle('Residual Plot with Distributions       ',  fontweight='bold', \n",
    "          fontsize='18', ha='center', y=1.02)\n",
    "plt.show()"
   ]
  },
  {
   "cell_type": "code",
   "execution_count": 38,
   "metadata": {},
   "outputs": [
    {
     "data": {
      "text/html": [
       "<div>\n",
       "<style scoped>\n",
       "    .dataframe tbody tr th:only-of-type {\n",
       "        vertical-align: middle;\n",
       "    }\n",
       "\n",
       "    .dataframe tbody tr th {\n",
       "        vertical-align: top;\n",
       "    }\n",
       "\n",
       "    .dataframe thead th {\n",
       "        text-align: right;\n",
       "    }\n",
       "</style>\n",
       "<table border=\"1\" class=\"dataframe\">\n",
       "  <thead>\n",
       "    <tr style=\"text-align: right;\">\n",
       "      <th></th>\n",
       "      <th>Feature</th>\n",
       "      <th>VIF Score</th>\n",
       "    </tr>\n",
       "  </thead>\n",
       "  <tbody>\n",
       "  </tbody>\n",
       "</table>\n",
       "</div>"
      ],
      "text/plain": [
       "Empty DataFrame\n",
       "Columns: [Feature, VIF Score]\n",
       "Index: []"
      ]
     },
     "execution_count": 38,
     "metadata": {},
     "output_type": "execute_result"
    }
   ],
   "source": [
    "################# NOT WORKING?\n",
    "# Evaluate Variance Inflation Factor for X features in RFE set\n",
    "# Note: That VIF Scores are not concerning as we are not focused on individual\n",
    "# relationships in the regression model, just the prediction ... which is relatively\n",
    "# unaffected by multicollinearity\n",
    "vif = pd.DataFrame()\n",
    "vif[\"Feature\"] = X_rfe.columns\n",
    "vif[\"VIF Score\"] = [variance_inflation_factor(X_rfe.values, i) for i in range(X_rfe.shape[1])]\n",
    "\n",
    "# Show features with VIF above 5\n",
    "index_names = vif[vif['VIF Score'] < 5 ].index\n",
    "vif.drop(index_names, inplace=True)\n",
    "round(vif, 1).sort_values(by='VIF Score', ascending=False)"
   ]
  },
  {
   "cell_type": "code",
   "execution_count": 39,
   "metadata": {},
   "outputs": [
    {
     "data": {
      "text/plain": [
       "Index(['age', 'Animation|Comedy|Thriller', 'Sci-Fi|War', 'Animation',\n",
       "       'Film-Noir|Mystery', 'Adventure|War'],\n",
       "      dtype='object')"
      ]
     },
     "execution_count": 39,
     "metadata": {},
     "output_type": "execute_result"
    }
   ],
   "source": [
    "### USE THE FINAL MODEL TO MAKE PREDICTIONS\n",
    "# Create empty copy of feature dataframe used in RFE model\n",
    "df_predNew = X_rfe.head(0).copy()\n",
    "\n",
    "# Show column names to help input new observation for prediction\n",
    "df_predNew.columns"
   ]
  },
  {
   "cell_type": "code",
   "execution_count": 40,
   "metadata": {},
   "outputs": [
    {
     "data": {
      "text/html": [
       "<div>\n",
       "<style scoped>\n",
       "    .dataframe tbody tr th:only-of-type {\n",
       "        vertical-align: middle;\n",
       "    }\n",
       "\n",
       "    .dataframe tbody tr th {\n",
       "        vertical-align: top;\n",
       "    }\n",
       "\n",
       "    .dataframe thead th {\n",
       "        text-align: right;\n",
       "    }\n",
       "</style>\n",
       "<table border=\"1\" class=\"dataframe\">\n",
       "  <thead>\n",
       "    <tr style=\"text-align: right;\">\n",
       "      <th></th>\n",
       "      <th>const</th>\n",
       "      <th>age</th>\n",
       "      <th>Animation|Comedy|Thriller</th>\n",
       "      <th>Sci-Fi|War</th>\n",
       "      <th>Animation</th>\n",
       "      <th>Film-Noir|Mystery</th>\n",
       "      <th>Adventure|War</th>\n",
       "    </tr>\n",
       "  </thead>\n",
       "  <tbody>\n",
       "    <tr>\n",
       "      <th>0</th>\n",
       "      <td>1.0</td>\n",
       "      <td>0</td>\n",
       "      <td>0</td>\n",
       "      <td>1</td>\n",
       "      <td>0</td>\n",
       "      <td>0</td>\n",
       "      <td>0</td>\n",
       "    </tr>\n",
       "  </tbody>\n",
       "</table>\n",
       "</div>"
      ],
      "text/plain": [
       "   const  age  Animation|Comedy|Thriller  Sci-Fi|War  Animation  \\\n",
       "0    1.0    0                          0           1          0   \n",
       "\n",
       "   Film-Noir|Mystery  Adventure|War  \n",
       "0                  0              0  "
      ]
     },
     "execution_count": 40,
     "metadata": {},
     "output_type": "execute_result"
    }
   ],
   "source": [
    "# Create observation for the following prediction:\n",
    "# A Sci-Fi|War movie rated by someone age 16 with an unspecified occupation\n",
    "# This particular property is an apartment in Charlestown (near the Freedom Trail) with 3 bedrooms \n",
    "# and 2 bathrooms that is set to accommodate 6, which is the number of guests that are included. \n",
    "# The property host has 2 additional listings but is not a superhost. They require a security deposit\n",
    "# of $250 and a cleaning fee of $100. There is a 3-night minimum on the property rental, which is for\n",
    "# the entire apartment. Instant book is not available and the property has a strict cancellation policy.\n",
    "# The property owner believes they will get 1.2 reviews per month and state that they respond to emails\n",
    "# within a day (code is 2).\n",
    "\n",
    "# Set up values in feature matrix to represent new property\n",
    "df_predNew.loc[0] = [0, 0, 1, 0, 0, 0]\n",
    "\n",
    "# Add a constant value as the first field in the dataframe\n",
    "df_predNew = sm.add_constant(df_predNew, prepend=True, has_constant='add')\n",
    "\n",
    "# Check values to see if they align properly\n",
    "df_predNew"
   ]
  },
  {
   "cell_type": "code",
   "execution_count": 41,
   "metadata": {},
   "outputs": [
    {
     "data": {
      "text/html": [
       "<div>\n",
       "<style scoped>\n",
       "    .dataframe tbody tr th:only-of-type {\n",
       "        vertical-align: middle;\n",
       "    }\n",
       "\n",
       "    .dataframe tbody tr th {\n",
       "        vertical-align: top;\n",
       "    }\n",
       "\n",
       "    .dataframe thead th {\n",
       "        text-align: right;\n",
       "    }\n",
       "</style>\n",
       "<table border=\"1\" class=\"dataframe\">\n",
       "  <thead>\n",
       "    <tr style=\"text-align: right;\">\n",
       "      <th></th>\n",
       "      <th>mean</th>\n",
       "      <th>mean_se</th>\n",
       "      <th>mean_ci_lower</th>\n",
       "      <th>mean_ci_upper</th>\n",
       "      <th>obs_ci_lower</th>\n",
       "      <th>obs_ci_upper</th>\n",
       "    </tr>\n",
       "  </thead>\n",
       "  <tbody>\n",
       "    <tr>\n",
       "      <th>0</th>\n",
       "      <td>4.279717</td>\n",
       "      <td>0.030274</td>\n",
       "      <td>4.220381</td>\n",
       "      <td>4.339052</td>\n",
       "      <td>2.096209</td>\n",
       "      <td>6.463225</td>\n",
       "    </tr>\n",
       "  </tbody>\n",
       "</table>\n",
       "</div>"
      ],
      "text/plain": [
       "       mean   mean_se  mean_ci_lower  mean_ci_upper  obs_ci_lower  \\\n",
       "0  4.279717  0.030274       4.220381       4.339052      2.096209   \n",
       "\n",
       "   obs_ci_upper  \n",
       "0      6.463225  "
      ]
     },
     "execution_count": 41,
     "metadata": {},
     "output_type": "execute_result"
    }
   ],
   "source": [
    "# Create and show RFE prediction results for new observation\n",
    "prediction_rfe = reg.get_prediction(df_predNew)\n",
    "prediction_rfe.summary_frame(alpha=.05)\n",
    "\n",
    "### CITATION: Again, credit for this model goes to Dr. Siepel and Data 1500"
   ]
  },
  {
   "cell_type": "markdown",
   "metadata": {},
   "source": [
    "##### Ratings of the 5 Best-Rated Genres by Top Occupations (College/Grad Student, Other/Unverified, Executive/Managerial, Academic/Educator, Technician/Engineer)"
   ]
  },
  {
   "cell_type": "code",
   "execution_count": 42,
   "metadata": {
    "scrolled": true
   },
   "outputs": [
    {
     "data": {
      "text/plain": [
       "<AxesSubplot:title={'center':'Determine whether a correlation exists between overall occupations and ratings'}>"
      ]
     },
     "execution_count": 42,
     "metadata": {},
     "output_type": "execute_result"
    },
    {
     "data": {
      "image/png": "[encoded data removed]",
      "text/plain": [
       "<Figure size 720x576 with 2 Axes>"
      ]
     },
     "metadata": {},
     "output_type": "display_data"
    }
   ],
   "source": [
    "# Creating a heat map to determine whether an overall correlation exists between occupation and ratings\n",
    "# Feature Selection\n",
    "OccGen_Features = movieData[['occupation', 'rating']]\n",
    "\n",
    "# Create a Correlation Matrix with a colored heat-map\n",
    "correlation = OccGen_Features.corr()\n",
    "f, ax = plt.subplots(figsize = (10,8))\n",
    "plt.suptitle('Occupation and Ratings', fontweight='bold', fontsize='22', ha='center', y = 1)\n",
    "\n",
    "plt.title('Determine whether a correlation exists between overall occupations and ratings', fontweight='bold', \n",
    "          fontsize='14', ha='center', y=1.01, size = 16)\n",
    "\n",
    "sns.heatmap(correlation, square=True,linewidths=0.1, vmax=1.0, vmin=-1.0, cmap = \"Greens\", linecolor='white',annot= True)\n",
    "\n",
    "### Citation: From class notes (5) and Dr. Siepel's notes from Introduction to Data Science"
   ]
  },
  {
   "cell_type": "markdown",
   "metadata": {},
   "source": [
    "There does not seem to be an overall correlation."
   ]
  },
  {
   "cell_type": "code",
   "execution_count": null,
   "metadata": {},
   "outputs": [],
   "source": []
  }
 ],
 "metadata": {
  "kernelspec": {
   "display_name": "Python 3",
   "language": "python",
   "name": "python3"
  },
  "language_info": {
   "codemirror_mode": {
    "name": "ipython",
    "version": 3
   },
   "file_extension": ".py",
   "mimetype": "text/x-python",
   "name": "python",
   "nbconvert_exporter": "python",
   "pygments_lexer": "ipython3",
   "version": "3.8.5"
  }
 },
 "nbformat": 4,
 "nbformat_minor": 5
}
